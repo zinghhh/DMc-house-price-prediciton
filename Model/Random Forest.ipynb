{
 "cells": [
  {
   "cell_type": "code",
   "execution_count": 1,
   "id": "initial_id",
   "metadata": {
    "ExecuteTime": {
     "end_time": "2024-04-18T11:28:08.236162Z",
     "start_time": "2024-04-18T11:28:07.920294Z"
    },
    "collapsed": true
   },
   "outputs": [],
   "source": [
    "import pandas as pd\n",
    "import numpy as np"
   ]
  },
  {
   "cell_type": "code",
   "execution_count": 2,
   "id": "75f2f493b07a5809",
   "metadata": {
    "ExecuteTime": {
     "end_time": "2024-04-18T11:28:08.287867Z",
     "start_time": "2024-04-18T11:28:08.232521Z"
    },
    "collapsed": false
   },
   "outputs": [
    {
     "data": {
      "text/html": [
       "<div>\n",
       "<style scoped>\n",
       "    .dataframe tbody tr th:only-of-type {\n",
       "        vertical-align: middle;\n",
       "    }\n",
       "\n",
       "    .dataframe tbody tr th {\n",
       "        vertical-align: top;\n",
       "    }\n",
       "\n",
       "    .dataframe thead th {\n",
       "        text-align: right;\n",
       "    }\n",
       "</style>\n",
       "<table border=\"1\" class=\"dataframe\">\n",
       "  <thead>\n",
       "    <tr style=\"text-align: right;\">\n",
       "      <th></th>\n",
       "      <th>Price</th>\n",
       "      <th>Area</th>\n",
       "      <th>Floor</th>\n",
       "      <th>Total_floor</th>\n",
       "      <th>Orientation</th>\n",
       "      <th>Longitude</th>\n",
       "      <th>Latitude</th>\n",
       "      <th>Elevators</th>\n",
       "      <th>Water</th>\n",
       "      <th>Electricity</th>\n",
       "      <th>...</th>\n",
       "      <th>Community name</th>\n",
       "      <th>Lease method</th>\n",
       "      <th>Room</th>\n",
       "      <th>Hall</th>\n",
       "      <th>Toilet</th>\n",
       "      <th>Availability</th>\n",
       "      <th>Showings time</th>\n",
       "      <th>Listing Year</th>\n",
       "      <th>Listing Month</th>\n",
       "      <th>Listing Day</th>\n",
       "    </tr>\n",
       "  </thead>\n",
       "  <tbody>\n",
       "    <tr>\n",
       "      <th>0</th>\n",
       "      <td>6000</td>\n",
       "      <td>0.114894</td>\n",
       "      <td>0.129630</td>\n",
       "      <td>0.113924</td>\n",
       "      <td>0.090009</td>\n",
       "      <td>0.529993</td>\n",
       "      <td>0.274260</td>\n",
       "      <td>1</td>\n",
       "      <td>1</td>\n",
       "      <td>1</td>\n",
       "      <td>...</td>\n",
       "      <td>2485</td>\n",
       "      <td>1</td>\n",
       "      <td>0.250</td>\n",
       "      <td>0.166667</td>\n",
       "      <td>0.125</td>\n",
       "      <td>1</td>\n",
       "      <td>0</td>\n",
       "      <td>1.0</td>\n",
       "      <td>0.363636</td>\n",
       "      <td>0.133333</td>\n",
       "    </tr>\n",
       "    <tr>\n",
       "      <th>1</th>\n",
       "      <td>4600</td>\n",
       "      <td>0.087943</td>\n",
       "      <td>0.240741</td>\n",
       "      <td>0.215190</td>\n",
       "      <td>0.000900</td>\n",
       "      <td>0.541752</td>\n",
       "      <td>0.264924</td>\n",
       "      <td>1</td>\n",
       "      <td>1</td>\n",
       "      <td>1</td>\n",
       "      <td>...</td>\n",
       "      <td>638</td>\n",
       "      <td>1</td>\n",
       "      <td>0.125</td>\n",
       "      <td>0.166667</td>\n",
       "      <td>0.125</td>\n",
       "      <td>1</td>\n",
       "      <td>2</td>\n",
       "      <td>1.0</td>\n",
       "      <td>0.272727</td>\n",
       "      <td>0.833333</td>\n",
       "    </tr>\n",
       "    <tr>\n",
       "      <th>2</th>\n",
       "      <td>4800</td>\n",
       "      <td>0.097872</td>\n",
       "      <td>0.222222</td>\n",
       "      <td>0.189873</td>\n",
       "      <td>0.090909</td>\n",
       "      <td>0.536866</td>\n",
       "      <td>0.260947</td>\n",
       "      <td>1</td>\n",
       "      <td>1</td>\n",
       "      <td>1</td>\n",
       "      <td>...</td>\n",
       "      <td>2486</td>\n",
       "      <td>1</td>\n",
       "      <td>0.250</td>\n",
       "      <td>0.333333</td>\n",
       "      <td>0.250</td>\n",
       "      <td>1</td>\n",
       "      <td>2</td>\n",
       "      <td>1.0</td>\n",
       "      <td>0.363636</td>\n",
       "      <td>0.366667</td>\n",
       "    </tr>\n",
       "    <tr>\n",
       "      <th>3</th>\n",
       "      <td>6800</td>\n",
       "      <td>0.103546</td>\n",
       "      <td>0.277778</td>\n",
       "      <td>0.379747</td>\n",
       "      <td>0.090909</td>\n",
       "      <td>0.475070</td>\n",
       "      <td>0.207763</td>\n",
       "      <td>1</td>\n",
       "      <td>1</td>\n",
       "      <td>1</td>\n",
       "      <td>...</td>\n",
       "      <td>2296</td>\n",
       "      <td>1</td>\n",
       "      <td>0.250</td>\n",
       "      <td>0.333333</td>\n",
       "      <td>0.125</td>\n",
       "      <td>1</td>\n",
       "      <td>2</td>\n",
       "      <td>1.0</td>\n",
       "      <td>0.272727</td>\n",
       "      <td>0.766667</td>\n",
       "    </tr>\n",
       "    <tr>\n",
       "      <th>4</th>\n",
       "      <td>6500</td>\n",
       "      <td>0.103546</td>\n",
       "      <td>0.129630</td>\n",
       "      <td>0.379747</td>\n",
       "      <td>0.090009</td>\n",
       "      <td>0.464065</td>\n",
       "      <td>0.193519</td>\n",
       "      <td>1</td>\n",
       "      <td>1</td>\n",
       "      <td>1</td>\n",
       "      <td>...</td>\n",
       "      <td>346</td>\n",
       "      <td>1</td>\n",
       "      <td>0.125</td>\n",
       "      <td>0.166667</td>\n",
       "      <td>0.125</td>\n",
       "      <td>1</td>\n",
       "      <td>2</td>\n",
       "      <td>1.0</td>\n",
       "      <td>0.363636</td>\n",
       "      <td>0.900000</td>\n",
       "    </tr>\n",
       "  </tbody>\n",
       "</table>\n",
       "<p>5 rows × 24 columns</p>\n",
       "</div>"
      ],
      "text/plain": [
       "   Price      Area     Floor  Total_floor  Orientation  Longitude  Latitude  \\\n",
       "0   6000  0.114894  0.129630     0.113924     0.090009   0.529993  0.274260   \n",
       "1   4600  0.087943  0.240741     0.215190     0.000900   0.541752  0.264924   \n",
       "2   4800  0.097872  0.222222     0.189873     0.090909   0.536866  0.260947   \n",
       "3   6800  0.103546  0.277778     0.379747     0.090909   0.475070  0.207763   \n",
       "4   6500  0.103546  0.129630     0.379747     0.090009   0.464065  0.193519   \n",
       "\n",
       "   Elevators  Water  Electricity  ...  Community name  Lease method   Room  \\\n",
       "0          1      1            1  ...            2485             1  0.250   \n",
       "1          1      1            1  ...             638             1  0.125   \n",
       "2          1      1            1  ...            2486             1  0.250   \n",
       "3          1      1            1  ...            2296             1  0.250   \n",
       "4          1      1            1  ...             346             1  0.125   \n",
       "\n",
       "       Hall  Toilet  Availability  Showings time  Listing Year  Listing Month  \\\n",
       "0  0.166667   0.125             1              0           1.0       0.363636   \n",
       "1  0.166667   0.125             1              2           1.0       0.272727   \n",
       "2  0.333333   0.250             1              2           1.0       0.363636   \n",
       "3  0.333333   0.125             1              2           1.0       0.272727   \n",
       "4  0.166667   0.125             1              2           1.0       0.363636   \n",
       "\n",
       "   Listing Day  \n",
       "0     0.133333  \n",
       "1     0.833333  \n",
       "2     0.366667  \n",
       "3     0.766667  \n",
       "4     0.900000  \n",
       "\n",
       "[5 rows x 24 columns]"
      ]
     },
     "execution_count": 2,
     "metadata": {},
     "output_type": "execute_result"
    }
   ],
   "source": [
    "df = pd.read_csv('Rental_Fully_Prepared_For_LSTM.csv')\n",
    "df.head()"
   ]
  },
  {
   "cell_type": "code",
   "execution_count": 3,
   "id": "da7499388d274202",
   "metadata": {
    "ExecuteTime": {
     "end_time": "2024-04-18T11:28:08.290282Z",
     "start_time": "2024-04-18T11:28:08.271976Z"
    },
    "collapsed": false
   },
   "outputs": [
    {
     "data": {
      "text/plain": [
       "<bound method DataFrame.info of        Price      Area     Floor  Total_floor  Orientation  Longitude  \\\n",
       "0       6000  0.114894  0.129630     0.113924     0.090009   0.529993   \n",
       "1       4600  0.087943  0.240741     0.215190     0.000900   0.541752   \n",
       "2       4800  0.097872  0.222222     0.189873     0.090909   0.536866   \n",
       "3       6800  0.103546  0.277778     0.379747     0.090909   0.475070   \n",
       "4       6500  0.103546  0.129630     0.379747     0.090009   0.464065   \n",
       "...      ...       ...       ...          ...          ...        ...   \n",
       "18605   1190  0.014184  0.351852     0.341772     0.990099   0.330247   \n",
       "18606   1690  0.017021  0.148148     0.443038     0.990099   0.319010   \n",
       "18607   1490  0.024113  0.518519     0.379747     0.990099   0.305509   \n",
       "18608   1990  0.034043  0.277778     0.341772     0.990099   0.300547   \n",
       "18609   1790  0.036879  0.185185     0.177215     0.990099   0.311302   \n",
       "\n",
       "       Latitude  Elevators  Water  Electricity  ...  Community name  \\\n",
       "0      0.274260          1      1            1  ...            2485   \n",
       "1      0.264924          1      1            1  ...             638   \n",
       "2      0.260947          1      1            1  ...            2486   \n",
       "3      0.207763          1      1            1  ...            2296   \n",
       "4      0.193519          1      1            1  ...             346   \n",
       "...         ...        ...    ...          ...  ...             ...   \n",
       "18605  0.488263          1      1            1  ...            1894   \n",
       "18606  0.490743          1      1            1  ...             247   \n",
       "18607  0.542910          1      1            1  ...            1659   \n",
       "18608  0.530559          1      1            1  ...            1633   \n",
       "18609  0.525031          1      1            1  ...            1036   \n",
       "\n",
       "       Lease method   Room      Hall  Toilet  Availability  Showings time  \\\n",
       "0                 1  0.250  0.166667   0.125             1              0   \n",
       "1                 1  0.125  0.166667   0.125             1              2   \n",
       "2                 1  0.250  0.333333   0.250             1              2   \n",
       "3                 1  0.250  0.333333   0.125             1              2   \n",
       "4                 1  0.125  0.166667   0.125             1              2   \n",
       "...             ...    ...       ...     ...           ...            ...   \n",
       "18605             0  0.500  0.333333   0.250             1              2   \n",
       "18606             0  0.500  0.333333   0.250             1              2   \n",
       "18607             0  0.500  0.333333   0.250             1              0   \n",
       "18608             0  0.500  0.333333   0.250             1              0   \n",
       "18609             0  0.500  0.333333   0.375             1              0   \n",
       "\n",
       "       Listing Year  Listing Month  Listing Day  \n",
       "0               1.0       0.363636     0.133333  \n",
       "1               1.0       0.272727     0.833333  \n",
       "2               1.0       0.363636     0.366667  \n",
       "3               1.0       0.272727     0.766667  \n",
       "4               1.0       0.363636     0.900000  \n",
       "...             ...            ...          ...  \n",
       "18605           1.0       0.090909     0.366667  \n",
       "18606           1.0       0.090909     0.366667  \n",
       "18607           0.5       0.636364     0.266667  \n",
       "18608           0.5       0.636364     0.266667  \n",
       "18609           0.5       0.636364     0.266667  \n",
       "\n",
       "[18610 rows x 24 columns]>"
      ]
     },
     "execution_count": 3,
     "metadata": {},
     "output_type": "execute_result"
    }
   ],
   "source": [
    "df.info"
   ]
  },
  {
   "cell_type": "code",
   "execution_count": 4,
   "id": "b43a0ef2a15d0b9b",
   "metadata": {
    "ExecuteTime": {
     "end_time": "2024-04-18T11:28:10.515728Z",
     "start_time": "2024-04-18T11:28:08.277620Z"
    },
    "collapsed": false
   },
   "outputs": [],
   "source": [
    "from sklearn.ensemble import RandomForestRegressor\n",
    "from sklearn.model_selection import train_test_split"
   ]
  },
  {
   "cell_type": "code",
   "execution_count": 5,
   "id": "18f0683dad1fb85b",
   "metadata": {
    "ExecuteTime": {
     "end_time": "2024-04-18T11:28:10.527585Z",
     "start_time": "2024-04-18T11:28:10.518105Z"
    },
    "collapsed": false
   },
   "outputs": [],
   "source": [
    "# Split the dataset into training and test sets\n",
    "X = df.iloc[:, 1:]  # Features\n",
    "y = df.iloc[:, 0]   # Target variable (house prices)\n",
    "X_train, X_test, y_train, y_test = train_test_split(X, y, test_size=0.3, random_state=42)"
   ]
  },
  {
   "cell_type": "code",
   "execution_count": 6,
   "id": "9b5ff48f149f0be1",
   "metadata": {
    "ExecuteTime": {
     "end_time": "2024-04-18T11:28:10.528177Z",
     "start_time": "2024-04-18T11:28:10.521661Z"
    },
    "collapsed": false
   },
   "outputs": [],
   "source": [
    "# Create the Random Forest Regression model\n",
    "rf_model = RandomForestRegressor(random_state=42)"
   ]
  },
  {
   "cell_type": "code",
   "execution_count": 7,
   "id": "4f3866da168a0fa0",
   "metadata": {
    "ExecuteTime": {
     "end_time": "2024-04-18T11:28:17.091171Z",
     "start_time": "2024-04-18T11:28:10.525009Z"
    },
    "collapsed": false
   },
   "outputs": [],
   "source": [
    "from sklearn.metrics import mean_squared_error, r2_score\n",
    "rf_model.fit(X_train, y_train)\n",
    "y_pred_train = rf_model.predict(X_train)\n",
    "y_pred = rf_model.predict(X_test)\n",
    "train_mse = mean_squared_error(y_train, y_pred_train)\n",
    "train_r2 = r2_score(y_train, y_pred_train)\n",
    "test_mse = mean_squared_error(y_test, y_pred)\n",
    "test_r2 = r2_score(y_test, y_pred)"
   ]
  },
  {
   "cell_type": "code",
   "execution_count": 8,
   "id": "dd15fa205cd2c16",
   "metadata": {
    "ExecuteTime": {
     "end_time": "2024-04-18T11:28:17.091840Z",
     "start_time": "2024-04-18T11:28:17.087357Z"
    },
    "collapsed": false
   },
   "outputs": [],
   "source": [
    "def cal_acc(Y_pred,Y_test):\n",
    "        mse =0\n",
    "        tolerance = 0.1\n",
    "        total = len(Y_test)\n",
    "        accuracy = 0\n",
    "        for i in range(total):\n",
    "            diff = abs(Y_pred[i]-Y_test[i])\n",
    "            mse += diff ** 2\n",
    "            if diff /Y_test[i] <= tolerance:\n",
    "               accuracy += 1\n",
    "        mse /= total\n",
    "        accuracy /= total\n",
    "        #print(\"误差率为\",tolerance,\"时mse：\",mse)\n",
    "        print(\"误差率为\",tolerance,\"时准确率：\",accuracy)\n",
    "        return mse,accuracy\n",
    "def average_erro(Y_pred,Y_test):\n",
    "        errors = abs(Y_pred - Y_test)\n",
    "        error_rate = np.mean(errors/Y_test)\n",
    "        accuracy=1-error_rate\n",
    "        print(\"平均误差率：\",error_rate)\n",
    "        print(\"平均准确率\",accuracy)"
   ]
  },
  {
   "cell_type": "code",
   "execution_count": 9,
   "id": "f91dc0cc2a7a34f",
   "metadata": {
    "ExecuteTime": {
     "end_time": "2024-04-18T11:28:17.103206Z",
     "start_time": "2024-04-18T11:28:17.090806Z"
    },
    "collapsed": false
   },
   "outputs": [
    {
     "name": "stdout",
     "output_type": "stream",
     "text": [
      "MSE on Train Set: 2359024.505759122\n",
      "R-squared on Train Set: 0.9691952579368172\n",
      "MSE on Test Set: 16530249.574603649\n",
      "R-squared on Test Set: 0.7678890670622062\n",
      "train-------------\n",
      "误差率为 0.1 时准确率： 0.9032010439855684\n",
      "平均误差率： 0.048840704560483596\n",
      "平均准确率 0.9511592954395164\n",
      "test---------------\n",
      "误差率为 0.1 时准确率： 0.5769299659681175\n",
      "平均误差率： 0.14245188635837505\n",
      "平均准确率 0.857548113641625\n"
     ]
    }
   ],
   "source": [
    "print(\"MSE on Train Set:\", train_mse)\n",
    "print(\"R-squared on Train Set:\", train_r2)\n",
    "print(\"MSE on Test Set:\", test_mse)\n",
    "print(\"R-squared on Test Set:\", test_r2)\n",
    "print('train-------------')\n",
    "y_train = np.array(y_train)\n",
    "cal_acc(y_pred_train,y_train)\n",
    "\n",
    "average_erro(y_pred_train,y_train)\n",
    "print('test---------------')\n",
    "y_test = np.array(y_test)\n",
    "cal_acc(y_pred,y_test)\n",
    "average_erro(y_pred,y_test)"
   ]
  },
  {
   "cell_type": "code",
   "execution_count": 10,
   "id": "f3b6ad67ce4a9dc0",
   "metadata": {
    "ExecuteTime": {
     "end_time": "2024-04-18T11:28:17.115261Z",
     "start_time": "2024-04-18T11:28:17.101541Z"
    },
    "collapsed": false
   },
   "outputs": [
    {
     "name": "stdout",
     "output_type": "stream",
     "text": [
      "RMSLE: 0.20573547376207654\n"
     ]
    }
   ],
   "source": [
    "from sklearn.metrics import mean_squared_log_error\n",
    "rmsle = np.sqrt(mean_squared_log_error(y_test, y_pred))\n",
    "# 输出 RMSLE 值\n",
    "print(\"RMSLE:\", rmsle)"
   ]
  },
  {
   "cell_type": "code",
   "execution_count": 11,
   "id": "6322297e4ef956a9",
   "metadata": {
    "ExecuteTime": {
     "end_time": "2024-04-18T11:28:17.119183Z",
     "start_time": "2024-04-18T11:28:17.104838Z"
    },
    "collapsed": false
   },
   "outputs": [
    {
     "name": "stdout",
     "output_type": "stream",
     "text": [
      "{'bootstrap': True, 'ccp_alpha': 0.0, 'criterion': 'squared_error', 'max_depth': None, 'max_features': 1.0, 'max_leaf_nodes': None, 'max_samples': None, 'min_impurity_decrease': 0.0, 'min_samples_leaf': 1, 'min_samples_split': 2, 'min_weight_fraction_leaf': 0.0, 'n_estimators': 100, 'n_jobs': None, 'oob_score': False, 'random_state': 42, 'verbose': 0, 'warm_start': False}\n"
     ]
    }
   ],
   "source": [
    "params = rf_model.get_params()\n",
    "print(params)"
   ]
  },
  {
   "cell_type": "code",
   "execution_count": 12,
   "id": "baf8678b443d795e",
   "metadata": {
    "ExecuteTime": {
     "end_time": "2024-04-18T11:28:17.121106Z",
     "start_time": "2024-04-18T11:28:17.107312Z"
    },
    "collapsed": false
   },
   "outputs": [],
   "source": [
    "param_grid = {\n",
    "    'n_estimators': [100, 300, 500],\n",
    "    'max_depth': [5, 10, 15],\n",
    "    'min_samples_split': [2, 5, 10],\n",
    "    'min_samples_leaf': [1, 2, 4],\n",
    "     'max_features': [1, 0.5, 'sqrt', 'log2', None]\n",
    "}"
   ]
  },
  {
   "cell_type": "code",
   "execution_count": 13,
   "id": "58b486af4bde0428",
   "metadata": {
    "ExecuteTime": {
     "end_time": "2024-04-18T11:37:47.725915Z",
     "start_time": "2024-04-18T11:28:17.111898Z"
    },
    "collapsed": false
   },
   "outputs": [
    {
     "name": "stdout",
     "output_type": "stream",
     "text": [
      "Optimizing parameter: n_estimators\n",
      "Value: 100, Train R-squared: 0.7534, Test R-squared: 0.7679\n",
      "Value: 300, Train R-squared: 0.7537, Test R-squared: 0.7713\n",
      "Value: 500, Train R-squared: 0.7512, Test R-squared: 0.7687\n",
      "Best value for n_estimators: 300\n",
      "Optimizing parameter: max_depth\n",
      "Value: 5, Train R-squared: 0.6818, Test R-squared: 0.7099\n",
      "Value: 10, Train R-squared: 0.7419, Test R-squared: 0.7574\n",
      "Value: 15, Train R-squared: 0.7495, Test R-squared: 0.7690\n",
      "Best value for max_depth: 15\n",
      "Optimizing parameter: min_samples_split\n",
      "Value: 2, Train R-squared: 0.7534, Test R-squared: 0.7679\n",
      "Value: 5, Train R-squared: 0.7415, Test R-squared: 0.7646\n",
      "Value: 10, Train R-squared: 0.7460, Test R-squared: 0.7559\n",
      "Best value for min_samples_split: 2\n",
      "Optimizing parameter: min_samples_leaf\n",
      "Value: 1, Train R-squared: 0.7534, Test R-squared: 0.7679\n",
      "Value: 2, Train R-squared: 0.7897, Test R-squared: 0.7721\n",
      "Value: 4, Train R-squared: 0.7980, Test R-squared: 0.7526\n",
      "Best value for min_samples_leaf: 4\n",
      "Optimizing parameter: max_features\n",
      "Value: 1, Train R-squared: 0.7186, Test R-squared: 0.7328\n",
      "Value: 0.5, Train R-squared: 0.7887, Test R-squared: 0.7917\n",
      "Value: sqrt, Train R-squared: 0.7803, Test R-squared: 0.7920\n",
      "Value: log2, Train R-squared: 0.7803, Test R-squared: 0.7920\n",
      "Value: None, Train R-squared: 0.7534, Test R-squared: 0.7679\n",
      "Best value for max_features: 0.5\n"
     ]
    }
   ],
   "source": [
    "from sklearn.model_selection import GridSearchCV\n",
    "from sklearn.metrics import mean_squared_error, r2_score\n",
    "best_params = {}\n",
    "for param in param_grid:\n",
    "    print(f\"Optimizing parameter: {param}\")\n",
    "    train_r2_scores = []\n",
    "    test_r2_scores = []\n",
    "    for val in param_grid[param]:\n",
    "        grid_search = GridSearchCV(rf_model, {param: [val]}, cv=5, scoring='r2',error_score='raise')\n",
    "        grid_search.fit(X_train, y_train)\n",
    "        train_r2_score = grid_search.best_score_\n",
    "        test_r2_score = grid_search.score(X_test, y_test)\n",
    "        train_r2_scores.append(train_r2_score)\n",
    "        test_r2_scores.append(test_r2_score)\n",
    "        print(f\"Value: {val}, Train R-squared: {train_r2_score:.4f}, Test R-squared: {test_r2_score:.4f}\")\n",
    "    best_idx = train_r2_scores.index(max(train_r2_scores))\n",
    "    best_params[param] = param_grid[param][best_idx]\n",
    "    print(f\"Best value for {param}: {best_params[param]}\")"
   ]
  },
  {
   "cell_type": "code",
   "execution_count": 14,
   "id": "7d8b8ef72c1961",
   "metadata": {
    "ExecuteTime": {
     "end_time": "2024-04-18T11:37:47.897386Z",
     "start_time": "2024-04-18T11:37:47.703058Z"
    },
    "collapsed": false
   },
   "outputs": [
    {
     "name": "stdout",
     "output_type": "stream",
     "text": [
      "Best Parameters: {'n_estimators': 300, 'max_depth': 15, 'min_samples_split': 2, 'min_samples_leaf': 4, 'max_features': 0.5}\n"
     ]
    }
   ],
   "source": [
    "print(\"Best Parameters:\", best_params)"
   ]
  },
  {
   "cell_type": "code",
   "execution_count": 14,
   "id": "fe5a46651e3feeeb",
   "metadata": {
    "ExecuteTime": {
     "end_time": "2024-04-18T11:37:47.945284Z",
     "start_time": "2024-04-18T11:37:47.753965Z"
    },
    "collapsed": false
   },
   "outputs": [],
   "source": []
  },
  {
   "cell_type": "code",
   "execution_count": 15,
   "id": "e8619a7d78fd8b0e",
   "metadata": {
    "ExecuteTime": {
     "end_time": "2024-04-18T11:37:54.851837Z",
     "start_time": "2024-04-18T11:37:47.756590Z"
    },
    "collapsed": false
   },
   "outputs": [],
   "source": [
    "best_model = RandomForestRegressor(**best_params)\n",
    "best_model.fit(X_train, y_train)\n",
    "\n",
    "y_train_pred = best_model.predict(X_train)\n",
    "y_test_pred = best_model.predict(X_test)\n",
    "\n",
    "train_mse = mean_squared_error(y_train, y_train_pred)\n",
    "test_mse = mean_squared_error(y_test, y_test_pred)\n",
    "\n",
    "train_r2 = r2_score(y_train, y_train_pred)\n",
    "test_r2 = r2_score(y_test, y_test_pred)\n",
    "\n"
   ]
  },
  {
   "cell_type": "code",
   "execution_count": 16,
   "id": "f3dca3406a9994dc",
   "metadata": {
    "ExecuteTime": {
     "end_time": "2024-04-18T11:37:54.861006Z",
     "start_time": "2024-04-18T11:37:54.853680Z"
    },
    "collapsed": false
   },
   "outputs": [
    {
     "name": "stdout",
     "output_type": "stream",
     "text": [
      "MSE on Train Set: 8636277.085195512\n",
      "R-squared on Train Set: 0.8872252970046978\n",
      "MSE on Test Set: 15734406.137282666\n",
      "R-squared on Test Set: 0.7790639717044685\n",
      "train-------------\n",
      "误差率为 0.1 时准确率： 0.6940968757196592\n",
      "平均误差率： 0.09581196923450212\n",
      "平均准确率 0.9041880307654979\n",
      "test---------------\n",
      "误差率为 0.1 时准确率： 0.5548987999283539\n",
      "平均误差率： 0.14469805041002978\n",
      "平均准确率 0.8553019495899702\n"
     ]
    }
   ],
   "source": [
    "print(\"MSE on Train Set:\", train_mse)\n",
    "print(\"R-squared on Train Set:\", train_r2)\n",
    "print(\"MSE on Test Set:\", test_mse)\n",
    "print(\"R-squared on Test Set:\", test_r2)\n",
    "print('train-------------')\n",
    "y_train = np.array(y_train)\n",
    "cal_acc(y_train_pred,y_train)\n",
    "\n",
    "average_erro(y_train_pred,y_train)\n",
    "print('test---------------')\n",
    "y_test = np.array(y_test)\n",
    "cal_acc(y_test_pred,y_test)\n",
    "average_erro(y_test_pred,y_test)\n"
   ]
  },
  {
   "cell_type": "code",
   "execution_count": 17,
   "id": "71b774cd5cf6f205",
   "metadata": {
    "ExecuteTime": {
     "end_time": "2024-04-18T11:37:54.862648Z",
     "start_time": "2024-04-18T11:37:54.858400Z"
    },
    "collapsed": false
   },
   "outputs": [
    {
     "name": "stdout",
     "output_type": "stream",
     "text": [
      "RMSLE: 0.2047634706440649\n"
     ]
    }
   ],
   "source": [
    "from sklearn.metrics import mean_squared_log_error\n",
    "rmsle = np.sqrt(mean_squared_log_error(y_test, y_test_pred))\n",
    "# 输出 RMSLE 值\n",
    "print(\"RMSLE:\", rmsle)"
   ]
  },
  {
   "cell_type": "code",
   "execution_count": 18,
   "id": "395363629e4bf2a9",
   "metadata": {
    "ExecuteTime": {
     "end_time": "2024-04-18T11:37:54.900552Z",
     "start_time": "2024-04-18T11:37:54.860908Z"
    },
    "collapsed": false
   },
   "outputs": [
    {
     "name": "stdout",
     "output_type": "stream",
     "text": [
      "[ 7614.73214234 19957.61658888  4796.77565061 ...  4285.13047362\n",
      "  2683.16241522 24126.67895822]\n"
     ]
    }
   ],
   "source": [
    "print(y_test_pred)"
   ]
  },
  {
   "cell_type": "code",
   "execution_count": 19,
   "id": "92082e932306acdd",
   "metadata": {
    "ExecuteTime": {
     "end_time": "2024-04-18T11:37:54.903546Z",
     "start_time": "2024-04-18T11:37:54.863490Z"
    },
    "collapsed": false
   },
   "outputs": [
    {
     "name": "stdout",
     "output_type": "stream",
     "text": [
      "[ 5000 18000  4500 ...  5000  2100 10600]\n"
     ]
    }
   ],
   "source": [
    "print(y_test)"
   ]
  },
  {
   "cell_type": "code",
   "execution_count": 20,
   "id": "e0ce35796c54548d",
   "metadata": {
    "ExecuteTime": {
     "end_time": "2024-04-18T11:37:55.388728Z",
     "start_time": "2024-04-18T11:37:54.865560Z"
    },
    "collapsed": false
   },
   "outputs": [],
   "source": [
    "import matplotlib.pyplot as plt"
   ]
  },
  {
   "cell_type": "code",
   "execution_count": 21,
   "id": "318cdc1964fb3571",
   "metadata": {
    "ExecuteTime": {
     "end_time": "2024-04-18T11:37:55.426843Z",
     "start_time": "2024-04-18T11:37:55.388624Z"
    },
    "collapsed": false
   },
   "outputs": [],
   "source": [
    "# View feature importances\n",
    "feature_importances = rf_model.feature_importances_\n",
    "feature_names = X.columns\n",
    "sorted_indices = feature_importances.argsort()[::-1]"
   ]
  },
  {
   "cell_type": "code",
   "execution_count": 22,
   "id": "f94d707dc94f0f03",
   "metadata": {
    "ExecuteTime": {
     "end_time": "2024-04-18T11:37:55.581074Z",
     "start_time": "2024-04-18T11:37:55.409595Z"
    },
    "collapsed": false
   },
   "outputs": [
    {
     "data": {
      "image/png": "[encoded data removed]",
      "text/plain": [
       "<Figure size 1000x600 with 1 Axes>"
      ]
     },
     "metadata": {},
     "output_type": "display_data"
    }
   ],
   "source": [
    "# Plot the feature importance chart\n",
    "plt.figure(figsize=(10, 6))\n",
    "plt.bar(range(X.shape[1]), feature_importances[sorted_indices])\n",
    "plt.xticks(range(X.shape[1]), [feature_names[i] for i in sorted_indices], rotation=90)\n",
    "plt.xlabel('Feature')\n",
    "plt.ylabel('Importance')\n",
    "plt.title('Feature Importance')\n",
    "plt.show()"
   ]
  }
 ],
 "metadata": {
  "kernelspec": {
   "display_name": "Python 3",
   "language": "python",
   "name": "python3"
  },
  "language_info": {
   "codemirror_mode": {
    "name": "ipython",
    "version": 2
   },
   "file_extension": ".py",
   "mimetype": "text/x-python",
   "name": "python",
   "nbconvert_exporter": "python",
   "pygments_lexer": "ipython2",
   "version": "2.7.6"
  }
 },
 "nbformat": 4,
 "nbformat_minor": 5
}
